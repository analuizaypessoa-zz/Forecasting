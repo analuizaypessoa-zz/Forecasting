{
  "nbformat": 4,
  "nbformat_minor": 0,
  "metadata": {
    "colab": {
      "name": "Forecasting.ipynb",
      "provenance": [],
      "collapsed_sections": []
    },
    "kernelspec": {
      "name": "python3",
      "display_name": "Python 3"
    }
  },
  "cells": [
    {
      "cell_type": "markdown",
      "metadata": {
        "id": "OCjKuqm0iTot",
        "colab_type": "text"
      },
      "source": [
        "##### LOADING PACKAGES/LIBRARIES"
      ]
    },
    {
      "cell_type": "code",
      "metadata": {
        "id": "74g4dSvggOzZ",
        "colab_type": "code",
        "colab": {}
      },
      "source": [
        "import pandas as pd\n",
        "import numpy as np"
      ],
      "execution_count": 1,
      "outputs": []
    },
    {
      "cell_type": "code",
      "metadata": {
        "id": "TL-5GGI_gUdn",
        "colab_type": "code",
        "colab": {}
      },
      "source": [
        "import gspread\n",
        "import pandas as pd\n",
        "from google.colab import auth\n",
        "from oauth2client.client import GoogleCredentials\n",
        "import matplotlib.pyplot as plt"
      ],
      "execution_count": 22,
      "outputs": []
    },
    {
      "cell_type": "code",
      "metadata": {
        "id": "L4_1134OhVWa",
        "colab_type": "code",
        "colab": {}
      },
      "source": [
        "auth.authenticate_user()\n",
        "gc = gspread.authorize(GoogleCredentials.get_application_default())"
      ],
      "execution_count": 4,
      "outputs": []
    },
    {
      "cell_type": "markdown",
      "metadata": {
        "id": "LbT3fyboibAY",
        "colab_type": "text"
      },
      "source": [
        "##### LOADING DATA AND SETING THE DATA AS TIME SERIES"
      ]
    },
    {
      "cell_type": "code",
      "metadata": {
        "id": "8topv_Fugnuu",
        "colab_type": "code",
        "colab": {}
      },
      "source": [
        "#### load data\n",
        "worksheet = gc.open('Forecast_template').sheet1\n",
        "rows = worksheet.get_all_values()\n",
        "df = pd.DataFrame.from_records(rows)\n",
        "df.columns = df.iloc[0]\n",
        "df = df[1:]"
      ],
      "execution_count": 8,
      "outputs": []
    },
    {
      "cell_type": "code",
      "metadata": {
        "id": "L0EgZc_jhhxN",
        "colab_type": "code",
        "colab": {}
      },
      "source": [
        "### Converting the desired column to time series\n",
        "df[\"DATE\"] = pd.to_datetime(df['DATE'], format='%d/%m/%Y')\n",
        "df[\"SALES_PRODX\"] = pd.to_numeric(df[\"SALES_PRODX\"])"
      ],
      "execution_count": 17,
      "outputs": []
    },
    {
      "cell_type": "code",
      "metadata": {
        "id": "NgsiKsBtiSrC",
        "colab_type": "code",
        "colab": {
          "base_uri": "https://localhost:8080/",
          "height": 131
        },
        "outputId": "1da0936d-ac10-472c-abcf-340abf6000cb"
      },
      "source": [
        "## create time series\n",
        "ts = df.groupby(\"DATE\")[\"SALES_PRODX\"].sum().rename(\"sales\")\n",
        "ts.head()"
      ],
      "execution_count": 19,
      "outputs": [
        {
          "output_type": "execute_result",
          "data": {
            "text/plain": [
              "DATE\n",
              "2007-03-31     970260\n",
              "2007-06-30    1339077\n",
              "2007-09-30    3035746\n",
              "2007-12-31    3361822\n",
              "2008-03-31    3360077\n",
              "Name: sales, dtype: int64"
            ]
          },
          "metadata": {
            "tags": []
          },
          "execution_count": 19
        }
      ]
    },
    {
      "cell_type": "markdown",
      "metadata": {
        "id": "H_ozwGecqP-v",
        "colab_type": "text"
      },
      "source": [
        "##### IDENTIFYING STRUCTURAL CHANGES, IF WE NEED TO SPLIT THE MODEL"
      ]
    },
    {
      "cell_type": "code",
      "metadata": {
        "id": "rVhE6W5AqX7e",
        "colab_type": "code",
        "colab": {}
      },
      "source": [
        ""
      ],
      "execution_count": null,
      "outputs": []
    },
    {
      "cell_type": "markdown",
      "metadata": {
        "id": "C4TixMfWplHJ",
        "colab_type": "text"
      },
      "source": [
        "##### SPLITTING TRAIN AND TEST"
      ]
    },
    {
      "cell_type": "code",
      "metadata": {
        "id": "cDZUAsB9pn1f",
        "colab_type": "code",
        "colab": {}
      },
      "source": [
        "'''\n",
        "Split train/test from any given data point.\n",
        ":parameter\n",
        "    :param ts: pandas Series\n",
        "    :param test: num or str - test size (ex. 0.20) or index position\n",
        "                 (ex. \"yyyy-mm-dd\", 1000)\n",
        ":return\n",
        "    ts_train, ts_test\n",
        "'''\n",
        "def split_train_test(ts, test=0.20, plot=True, figsize=(15,5)):\n",
        "    ## define splitting point\n",
        "    if type(test) is float:\n",
        "        split = int(len(ts)*(1-test))\n",
        "        perc = test\n",
        "    elif type(test) is str:\n",
        "        split = ts.reset_index()[ \n",
        "                      ts.reset_index().iloc[:,0]==test].index[0]\n",
        "        perc = round(len(ts[split:])/len(ts), 2)\n",
        "    else:\n",
        "        split = test\n",
        "        perc = round(len(ts[split:])/len(ts), 2)\n",
        "    print(\"--- splitting at index: \", split, \"|\", \n",
        "          ts.index[split], \"| test size:\", perc, \" ---\")\n",
        "    \n",
        "    ## split ts\n",
        "    ts_train = ts.head(split)\n",
        "    ts_test = ts.tail(len(ts)-split)\n",
        "    if plot is True:\n",
        "        fig, ax = plt.subplots(nrows=1, ncols=2, sharex=False, \n",
        "                               sharey=True, figsize=figsize)\n",
        "        ts_train.plot(ax=ax[0], grid=True, title=\"Train\", \n",
        "                      color=\"black\")\n",
        "        ts_test.plot(ax=ax[1], grid=True, title=\"Test\", \n",
        "                     color=\"black\")\n",
        "        ax[0].set(xlabel=None)\n",
        "        ax[1].set(xlabel=None)\n",
        "        plt.show()\n",
        "        \n",
        "    return ts_train, ts_test"
      ],
      "execution_count": 20,
      "outputs": []
    },
    {
      "cell_type": "code",
      "metadata": {
        "id": "DsVj4agQp0CQ",
        "colab_type": "code",
        "colab": {
          "base_uri": "https://localhost:8080/",
          "height": 352
        },
        "outputId": "004608a4-f68e-4d18-a7c5-e4d7713a6872"
      },
      "source": [
        "ts_train, ts_test = split_train_test(ts, test = 0.3)"
      ],
      "execution_count": 24,
      "outputs": [
        {
          "output_type": "stream",
          "text": [
            "--- splitting at index:  35 | 2015-12-31 00:00:00 | test size: 0.3  ---\n"
          ],
          "name": "stdout"
        },
        {
          "output_type": "display_data",
          "data": {
            "image/png": "[encoded data removed]",
            "text/plain": [
              "<Figure size 1080x360 with 2 Axes>"
            ]
          },
          "metadata": {
            "tags": [],
            "needs_background": "light"
          }
        }
      ]
    },
    {
      "cell_type": "code",
      "metadata": {
        "id": "OmZa9g81p7Pl",
        "colab_type": "code",
        "colab": {}
      },
      "source": [
        ""
      ],
      "execution_count": null,
      "outputs": []
    }
  ]
}